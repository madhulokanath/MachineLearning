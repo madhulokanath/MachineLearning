{
 "cells": [
  {
   "cell_type": "markdown",
   "metadata": {},
   "source": [
    "**Predict the overall ranking of a football player**\n",
    "=================================\n",
    "**-BY *Arati Bhat, Madhu Lokanath* and *Nithin Ashok***\n",
    "**Abstract:**\n",
    "--------------------\n",
    "In this project, **Predict the overall ranking of a European Football players**, we are predicting the overall ranking of European Football players( which in our case is target variable ) by considering the individual player statistics such as player's potential, agility, stamina and so on as the features(instances). So with the individual player's overall ranking, it will be easy for the the bidders to choose the players for their team at the auction.\n",
    "\n",
    "----------\n",
    "\n",
    "\n",
    "**Introduction:**\n",
    "--------------------------\n",
    "Here we are basically building a supervised learning model to predict the overall ranking of football players. To train this model, we collected data from various websites which provides various kind of information about players and and their statistics. Once the model is trained using the data collected above, the model is able to predict the overall ranking of any new upcoming players.\n",
    "\n",
    "\n",
    "----------\n",
    "\n",
    "\n",
    "#### <i class=\"icon-file\"></i> **Data Gathering:**\n",
    "--------------------\n",
    "We agreed that the regular-season data of European Football would be the most effective for building a machine-learning model that would model the correlation of a set of features into a overall ranking of each individual . That way, we could predict the overall ranking of any player in future given their set of features.\n",
    "\n",
    "Now there’s no lack of sites hosting data on football games, and we found them on http://www.football-data.co.uk/englandm.php and on kaggle website, which had the cumulative data on all the teams for many years.\n",
    "\n",
    "It looks like a giant set of spreadsheets linked together on websites. Getting the data into the format we needed required a bit of filtering. But eventually we had a nice comma separated value (CSV) file with the 2008 to 2015 regular-season historical data. This had lot of null and missing values which we did preprocessing. The information we have extracted explains a few key factors that affect the player's overall ranking, such as potential, crossing, finishing, short passing, free kick accuracy, ball control, sprint speed and so on.\n",
    "\n",
    "\n",
    "----------\n",
    "\n",
    "**Performance Measure:**\n",
    "----------------------------------------\n",
    "Since our problem is of regression type, there are three different approaches to evaluate the quality of prediction of the model which are as follows :\n",
    "\n",
    " 1. **Estimator score method:** Estimators have a score method providing a default evaluation criterion for the problem they are designed to solve.\n",
    " 2. **Scoring parameter:** Model-evaluation tools using cross-validation (such as model_selection.cross_val_score) which rely on an internal scoring strategy.\n",
    " 3. **Metrics functions:** The metrics module implements functions assessing prediction error for specific purposes.\n",
    " \n",
    " In our project, we are using both **scoring parameter** (i.e., ***model_selection.cross_val_score***) and **metrics function**(i.e., ***metrics.mean_absolute_error*** and ***metrics.mean_squared_error***) to evaluate the performance of our model."
   ]
  },
  {
   "cell_type": "code",
   "execution_count": 4,
   "metadata": {
    "collapsed": false
   },
   "outputs": [
    {
     "name": "stdout",
     "output_type": "stream",
     "text": [
      "                       player_name  overall_rating\n",
      "0               Aaron Appindangoye       63.600000\n",
      "1                  Aaron Cresswell       66.969697\n",
      "2                      Aaron Doran       67.000000\n",
      "3                    Aaron Galindo       69.086957\n",
      "4                     Aaron Hughes       73.240000\n",
      "5                       Aaron Hunt       77.259259\n",
      "6                       Aaron Kuhl       60.571429\n",
      "7                     Aaron Lennon       79.769231\n",
      "8                     Aaron Lennox       48.000000\n",
      "9                    Aaron Meijers       67.052632\n",
      "10                   Aaron Mokoena       71.625000\n",
      "11                      Aaron Mooy       66.285714\n",
      "12                  Aaron Muirhead       62.250000\n",
      "13                    Aaron Niguez       66.925926\n",
      "14                    Aaron Ramsey       78.500000\n",
      "15                   Aaron Splaine       54.625000\n",
      "16           Aaron Taylor-Sinclair       62.611111\n",
      "17                 Aaron Wilbraham       61.772727\n",
      "18               Aatif Chahechouhe       69.375000\n",
      "19                       Abasse Ba       65.600000\n",
      "20               Abdelaziz Barrada       71.857143\n",
      "21           Abdelfettah Boukhriss       64.000000\n",
      "22          Abdelhamid El Kaoutari       68.285714\n",
      "23              Abdelkader Ghezzal       68.692308\n",
      "24                 Abdellah Zoubir       59.000000\n",
      "25              Abdelmajid Oulmers       68.800000\n",
      "26              Abdelmalek Cherrad       61.600000\n",
      "27          Abdelmalek El Hasnaoui       63.000000\n",
      "28             Abdelouahed Chakhsi       54.333333\n",
      "29                Abderrazak Jadid       63.307692\n",
      "...                            ...             ...\n",
      "10819                  Zhi-Gin Lam       66.277778\n",
      "10820                  Zie Diabate       62.611111\n",
      "10821                 Ziggy Gordon       62.300000\n",
      "10822              Ziguy Badibanga       63.750000\n",
      "10823             Zinedine Machach       63.444444\n",
      "10824                   Zinho Gano       62.733333\n",
      "10825                  Ziri Hammar       64.181818\n",
      "10826                         Zizo       60.400000\n",
      "10827            Zlatan Bajramovic       75.571429\n",
      "10828           Zlatan Ibrahimovic       88.285714\n",
      "10829           Zlatan Ljubijankic       70.350000\n",
      "10830                 Zlatko Dedic       67.666667\n",
      "10831                Zlatko Janjic       64.538462\n",
      "10832             Zlatko Junuzovic       75.461538\n",
      "10833                Zola Matumona       66.000000\n",
      "10834                  Zoltan Gera       74.423077\n",
      "10835               Zoltan Stieber       69.444444\n",
      "10836               Zoltan Szelesi       67.000000\n",
      "10837              Zoran Josipovic       59.545455\n",
      "10838               Zoran Rendulic       64.400000\n",
      "10839                  Zoran Tosic       77.043478\n",
      "10840           Zouhaier Dhaouadhi       64.000000\n",
      "10841               Zouhair Feddal       65.761905\n",
      "10842               Zoumana Camara       74.384615\n",
      "10843                 Zsolt Laczko       65.687500\n",
      "10844                    Zsolt Low       67.571429\n",
      "10845          Zurab Khizanishvili       70.750000\n",
      "10846           Zvjezdan Misimovic       80.000000\n",
      "10847  de Oliveira Cleber Monteiro       66.111111\n",
      "10848      dos Santos Fabio Junior       66.750000\n",
      "\n",
      "[10849 rows x 2 columns]\n"
     ]
    }
   ],
   "source": [
    "import pandas as pd\n",
    "import csv\n",
    "import sqlite3\n",
    "import matplotlib.pyplot as plt\n",
    "%matplotlib inline\n",
    "import numpy as np\n",
    "from sklearn.model_selection import train_test_split\n",
    "from sklearn.linear_model import LogisticRegression\n",
    "from sklearn import linear_model\n",
    "from sklearn.metrics import accuracy_score\n",
    "from sklearn.metrics import mean_squared_error\n",
    "from sklearn import metrics\n",
    "from sklearn.model_selection import cross_val_score\n",
    "from sklearn.metrics import mean_absolute_error\n",
    "from sklearn.model_selection import cross_val_score\n",
    "from sklearn.ensemble import RandomForestRegressor\n",
    "from sklearn.tree import DecisionTreeRegressor\n",
    "from sklearn import preprocessing\n",
    "\n",
    "features= pd.read_csv('/Users/bhata/Downloads/Data3.csv',sep=\",\",usecols=(1,2,3,4,5,6,7,8,9,10,11,12,13,14,15,16,17,18,19,20,21,22))\n",
    "target1= pd.read_csv('/Users/bhata/Downloads/Data3.csv',sep=\",\",usecols=(0,23))\n",
    "targe1= pd.read_csv('/Users/bhata/Downloads/Data3.csv',sep=\",\",usecols=(0,23))\n",
    " \n",
    "target=targe1.pop(\"overall_rating\")\n",
    "\n",
    "target1.head()\n",
    "target1.shape\n",
    "#print(targe1)\n",
    "#plt.boxplot(targe1[\"overall_rating\"])\n",
    "print(target1)\n",
    "\n",
    "Xtrain,Xtest,Ytrain,Ytest=train_test_split(features,target,train_size=0.8)"
   ]
  },
  {
   "cell_type": "code",
   "execution_count": 2,
   "metadata": {
    "collapsed": false
   },
   "outputs": [
    {
     "name": "stdout",
     "output_type": "stream",
     "text": [
      "       acceleration  aggression    agility    balance  ball_control  \\\n",
      "0         60.000000   65.800000  59.000000  65.000000     48.600000   \n",
      "1         76.000000   65.060606  75.242424  84.727273     61.787879   \n",
      "2         75.538462   59.115385  77.615385  80.730769     68.615385   \n",
      "3         50.217391   69.304348  62.826087  44.086957     63.173913   \n",
      "4         51.120000   69.680000  50.760000  64.160000     60.160000   \n",
      "5         77.259259   54.444444  78.407407  71.037037     78.037037   \n",
      "6         70.285714   74.571429  60.000000  80.000000     62.571429   \n",
      "7         93.423077   52.461538  91.923077  87.230769     82.846154   \n",
      "8         15.000000   21.000000  31.000000  24.000000     22.000000   \n",
      "9         74.157895   72.578947  68.842105  74.105263     71.578947   \n",
      "10        62.875000   70.000000  55.000000  68.000000     67.875000   \n",
      "11        72.750000   64.142857  70.571429  65.857143     69.214286   \n",
      "12        64.500000   66.500000  49.000000  53.000000     48.000000   \n",
      "13        77.666667   44.555556  76.666667  76.925926     72.592593   \n",
      "14        72.800000   67.325000  73.350000  71.925000     80.150000   \n",
      "15        65.000000   48.375000  64.500000  60.750000     51.375000   \n",
      "16        72.388889   64.388889  74.388889  66.222222     61.055556   \n",
      "17        51.636364   67.681818  40.818182  57.090909     61.818182   \n",
      "18        74.500000   38.437500  74.750000  66.375000     73.000000   \n",
      "19        60.000000   73.000000  59.000000  73.000000     44.000000   \n",
      "20        75.571429   69.357143  77.571429  73.285714     75.428571   \n",
      "21        62.000000   67.000000  65.000000  59.000000     52.000000   \n",
      "22        64.523810   77.857143  48.523810  61.142857     58.285714   \n",
      "23        72.692308   62.230769  66.846154  63.884615     70.461538   \n",
      "24        69.800000   36.000000  73.000000  63.000000     64.000000   \n",
      "25        74.400000   65.000000  64.190000  64.480000     73.000000   \n",
      "26        69.000000   52.000000  66.000000  62.000000     62.800000   \n",
      "27        75.000000   40.000000  82.000000  72.000000     67.000000   \n",
      "28        69.000000   49.666667  56.000000  59.000000     51.833333   \n",
      "29        68.000000   51.692308  63.153846  63.615385     70.538462   \n",
      "...             ...         ...        ...        ...           ...   \n",
      "10819     84.000000   47.444444  84.000000  80.944444     70.944444   \n",
      "10820     69.888889   64.277778  61.111111  70.333333     54.277778   \n",
      "10821     76.200000   75.300000  59.800000  49.500000     59.100000   \n",
      "10822     83.000000   38.000000  84.000000  77.375000     63.000000   \n",
      "10823     70.444444   67.000000  65.333333  63.666667     66.888889   \n",
      "10824     55.333333   58.000000  46.533333  32.000000     61.933333   \n",
      "10825     73.545455   51.000000  75.181818  60.090909     66.000000   \n",
      "10826     62.400000   43.000000  72.000000  78.000000     65.600000   \n",
      "10827     67.714286   82.285714  66.000000  77.000000     75.571429   \n",
      "10828     76.285714   79.666667  82.285714  60.476190     91.238095   \n",
      "10829     77.100000   70.900000  72.800000  66.950000     69.200000   \n",
      "10830     76.625000   70.625000  76.000000  69.291667     66.083333   \n",
      "10831     69.461538   59.615385  74.461538  71.000000     68.538462   \n",
      "10832     78.615385   72.000000  87.923077  85.717949     77.256410   \n",
      "10833     72.142857   44.428571  80.571429  92.428571     69.142857   \n",
      "10834     65.653846   61.153846  69.307692  66.269231     80.500000   \n",
      "10835     77.851852   35.518519  80.740741  76.185185     71.333333   \n",
      "10836     72.000000   70.000000  65.000000  58.000000     56.428571   \n",
      "10837     65.000000   45.000000  61.000000  53.000000     61.727273   \n",
      "10838     52.000000   76.000000  35.000000  41.000000     52.000000   \n",
      "10839     84.521739   41.304348  82.739130  78.652174     82.739130   \n",
      "10840     77.000000   75.000000  70.000000  62.000000     67.000000   \n",
      "10841     43.809524   66.190476  44.666667  32.666667     61.285714   \n",
      "10842     61.153846   74.923077  65.846154  69.076923     66.846154   \n",
      "10843     71.625000   66.250000  62.437500  59.875000     64.625000   \n",
      "10844     71.000000   71.000000  59.000000  72.000000     68.142857   \n",
      "10845     65.000000   71.000000  56.000000  53.000000     62.000000   \n",
      "10846     62.500000   57.500000  78.200000  72.100000     85.200000   \n",
      "10847     63.333333   60.111111  60.888889  69.444444     66.333333   \n",
      "10848     73.250000   74.750000  76.000000  73.250000     67.500000   \n",
      "\n",
      "        crossing      curve  dribbling  finishing  free_kick_accuracy  \\\n",
      "0      48.600000  44.600000  50.600000  43.600000           38.600000   \n",
      "1      70.787879  61.878788  61.090909  49.454545           62.121212   \n",
      "2      68.115385  60.192308  69.038462  57.923077           55.615385   \n",
      "3      57.217391  37.782609  55.565217  26.260870           40.391304   \n",
      "4      45.080000  45.480000  50.600000  38.840000           26.360000   \n",
      "5      73.888889  77.851852  78.814815  72.814815           68.444444   \n",
      "6      47.571429  55.571429  53.571429  31.571429           39.571429   \n",
      "7      78.038462  62.076923  85.192308  65.961538           54.346154   \n",
      "8      12.000000  14.000000  15.000000  15.000000           18.000000   \n",
      "9      63.894737  70.894737  69.736842  46.052632           64.368421   \n",
      "10     26.000000  44.000000  67.125000  56.125000           66.875000   \n",
      "11     66.571429  66.642857  66.250000  61.214286           71.607143   \n",
      "12     48.000000  21.000000  46.000000  23.000000           24.000000   \n",
      "13     59.555556  65.000000  72.259259  66.222222           55.074074   \n",
      "14     72.875000  64.600000  78.875000  70.925000           69.000000   \n",
      "15     54.375000  44.375000  52.375000  51.375000           42.375000   \n",
      "16     59.611111  56.388889  63.833333  23.833333           57.388889   \n",
      "17     47.363636  45.045455  47.318182  64.454545           41.590909   \n",
      "18     69.500000  68.437500  75.187500  78.000000           62.437500   \n",
      "19     41.000000  35.000000  30.000000  33.000000           43.000000   \n",
      "20     70.214286  73.928571  73.428571  58.357143           73.642857   \n",
      "21     47.000000  27.000000  47.000000  29.000000           45.000000   \n",
      "22     61.142857  22.190476  43.904762  20.047619           22.190476   \n",
      "23     63.500000  63.000000  70.538462  63.846154           61.961538   \n",
      "24     49.000000  52.000000  73.000000  56.000000           48.000000   \n",
      "25     60.000000  50.450000  74.000000  50.000000           51.800000   \n",
      "26     49.000000  46.000000  56.400000  64.000000           44.000000   \n",
      "27     42.000000  67.000000  72.000000  52.000000           45.000000   \n",
      "28     53.000000  35.000000  52.666667  34.333333           39.000000   \n",
      "29     64.692308  69.846154  65.538462  57.230769           63.846154   \n",
      "...          ...        ...        ...        ...                 ...   \n",
      "10819  66.611111  64.111111  73.722222  44.833333           55.166667   \n",
      "10820  54.833333  31.277778  59.055556  26.277778           32.277778   \n",
      "10821  57.700000  28.300000  60.100000  30.300000           31.300000   \n",
      "10822  60.000000  48.000000  68.625000  58.000000           46.000000   \n",
      "10823  64.111111  52.777778  69.666667  53.888889           49.000000   \n",
      "10824  48.933333  44.200000  60.333333  63.800000           47.533333   \n",
      "10825  67.000000  44.000000  68.000000  60.000000           49.000000   \n",
      "10826  41.000000  52.000000  64.400000  44.000000           46.000000   \n",
      "10827  73.857143  51.000000  71.571429  67.571429           57.285714   \n",
      "10828  72.380952  80.952381  89.380952  90.000000           81.380952   \n",
      "10829  68.800000  64.000000  68.900000  68.700000           60.050000   \n",
      "10830  57.500000  61.500000  70.208333  68.458333           60.916667   \n",
      "10831  63.307692  72.692308  67.846154  67.153846           71.692308   \n",
      "10832  73.743590  79.871795  77.102564  67.153846           75.025641   \n",
      "10833  64.714286  58.714286  70.571429  57.571429           64.428571   \n",
      "10834  81.923077  76.076923  78.192308  73.461538           80.653846   \n",
      "10835  64.296296  72.777778  73.148148  67.148148           69.185185   \n",
      "10836  57.857143  51.000000  47.142857  55.000000           66.571429   \n",
      "10837  28.000000  38.000000  54.818182  59.636364           52.000000   \n",
      "10838  37.000000  30.000000  39.000000  17.000000           25.000000   \n",
      "10839  69.000000  76.086957  83.391304  75.086957           81.086957   \n",
      "10840  65.000000  53.000000  75.000000  60.000000           53.000000   \n",
      "10841  47.523810  26.571429  41.619048  29.571429           27.857143   \n",
      "10842  42.000000  49.000000  56.384615  27.000000           35.692308   \n",
      "10843  67.250000  63.812500  61.187500  46.750000           61.750000   \n",
      "10844  63.142857  60.000000  66.857143  44.571429           52.571429   \n",
      "10845  46.750000  29.000000  36.000000  43.000000           41.375000   \n",
      "10846  78.200000  86.000000  83.000000  72.600000           74.200000   \n",
      "10847  53.111111  30.777778  55.555556  56.555556           49.111111   \n",
      "10848  61.000000  60.000000  68.500000  64.750000           59.000000   \n",
      "\n",
      "         ...      long_shots  penalties  potential  short_passing  shot_power  \\\n",
      "0        ...       34.600000  47.600000  67.600000      60.600000   54.600000   \n",
      "1        ...       54.121212  53.121212  74.484848      62.272727   65.909091   \n",
      "2        ...       58.038462  60.538462  74.192308      65.115385   62.807692   \n",
      "3        ...       31.304348  41.739130  70.782609      64.695652   64.869565   \n",
      "4        ...       24.280000  52.960000  74.680000      64.760000   47.080000   \n",
      "5        ...       74.444444  75.592593  80.148148      78.259259   76.444444   \n",
      "6        ...       37.571429  41.571429  76.000000      63.571429   52.571429   \n",
      "7        ...       56.500000  63.461538  82.000000      76.269231   62.961538   \n",
      "8        ...       12.000000  41.000000  56.857143      23.000000   26.000000   \n",
      "9        ...       60.894737  54.421053  69.421053      68.947368   65.736842   \n",
      "10       ...       25.000000  51.500000  76.000000      80.125000   47.000000   \n",
      "11       ...       64.250000  60.035714  73.142857      70.642857   67.178571   \n",
      "12       ...       24.000000  74.000000  70.000000      58.000000   37.000000   \n",
      "13       ...       60.740741  61.925926  75.296296      58.148148   66.481481   \n",
      "14       ...       75.200000  75.175000  84.675000      82.675000   77.225000   \n",
      "15       ...       51.375000  54.375000  62.625000      55.875000   53.375000   \n",
      "16       ...       26.722222  39.388889  69.500000      61.833333   57.944444   \n",
      "17       ...       47.500000  66.454545  64.136364      56.090909   65.681818   \n",
      "18       ...       72.312500  73.187500  74.500000      73.500000   76.312500   \n",
      "19       ...       39.000000  53.600000  70.600000      55.800000   48.000000   \n",
      "20       ...       69.571429  62.500000  78.857143      68.000000   70.071429   \n",
      "21       ...       37.000000  42.000000  69.000000      57.000000   57.000000   \n",
      "22       ...       34.571429  31.095238  73.571429      61.857143   55.333333   \n",
      "23       ...       69.153846  66.538462  71.307692      66.153846   69.730769   \n",
      "24       ...       53.000000  58.000000  69.000000      56.000000   57.000000   \n",
      "25       ...       55.000000  47.000000  69.400000      74.000000   66.000000   \n",
      "26       ...       59.000000  57.800000  73.000000      54.000000   63.000000   \n",
      "27       ...       52.000000  46.000000  72.000000      64.000000   48.000000   \n",
      "28       ...       50.000000  45.000000  59.500000      56.666667   56.000000   \n",
      "29       ...       60.615385  56.769231  65.538462      64.615385   65.230769   \n",
      "...      ...             ...        ...        ...            ...         ...   \n",
      "10819    ...       58.166667  46.166667  74.277778      66.055556   56.888889   \n",
      "10820    ...       47.611111  46.277778  67.500000      56.944444   49.500000   \n",
      "10821    ...       23.300000  41.300000  71.100000      50.300000   40.300000   \n",
      "10822    ...       54.750000  52.000000  72.250000      59.375000   59.500000   \n",
      "10823    ...       53.666667  55.000000  76.444444      69.555556   61.000000   \n",
      "10824    ...       56.866667  58.533333  70.466667      52.933333   63.600000   \n",
      "10825    ...       63.000000  60.000000  72.636364      69.000000   67.000000   \n",
      "10826    ...       53.400000  53.000000  72.400000      66.400000   38.000000   \n",
      "10827    ...       77.857143  74.714286  82.857143      77.571429   81.142857   \n",
      "10828    ...       86.523810  88.000000  90.047619      84.238095   91.761905   \n",
      "10829    ...       65.800000  61.150000  73.100000      67.550000   68.400000   \n",
      "10830    ...       69.333333  67.375000  71.750000      63.083333   68.750000   \n",
      "10831    ...       65.538462  72.153846  65.846154      64.076923   69.000000   \n",
      "10832    ...       72.076923  66.153846  79.000000      77.051282   73.128205   \n",
      "10833    ...       61.428571  67.000000  66.142857      63.571429   62.000000   \n",
      "10834    ...       73.692308  72.230769  76.653846      76.769231   77.307692   \n",
      "10835    ...       65.629630  55.851852  76.259259      69.148148   69.629630   \n",
      "10836    ...       55.000000  58.428571  65.000000      65.857143   57.714286   \n",
      "10837    ...       48.636364  54.000000  72.545455      48.000000   56.000000   \n",
      "10838    ...       39.000000  47.000000  72.000000      52.000000   46.000000   \n",
      "10839    ...       76.739130  67.521739  80.695652      76.347826   76.173913   \n",
      "10840    ...       78.000000  76.000000  65.375000      68.000000   82.000000   \n",
      "10841    ...       31.809524  36.619048  69.380952      58.809524   48.380952   \n",
      "10842    ...       30.000000  55.538462  75.461538      70.000000   57.000000   \n",
      "10843    ...       37.875000  51.875000  71.625000      63.125000   40.312500   \n",
      "10844    ...       56.714286  61.000000  72.857143      66.857143   60.714286   \n",
      "10845    ...       46.000000  64.000000  78.125000      58.875000   50.000000   \n",
      "10846    ...       79.000000  70.900000  81.700000      85.500000   75.800000   \n",
      "10847    ...       64.111111  53.111111  67.555556      66.444444   62.777778   \n",
      "10848    ...       63.250000  72.500000  73.000000      63.000000   65.500000   \n",
      "\n",
      "       sliding_tackle  sprint_speed    stamina  standing_tackle     vision  \n",
      "0           67.800000     64.000000  54.000000        66.000000  53.600000  \n",
      "1           71.515152     74.939394  72.878788        68.787879  57.454545  \n",
      "2           21.346154     77.500000  70.923077        21.115385  69.384615  \n",
      "3           68.043478     52.826087  55.434783        70.652174  53.782609  \n",
      "4           74.600000     54.080000  66.480000        76.040000  46.480000  \n",
      "5           32.333333     75.777778  74.814815        31.518519  79.962963  \n",
      "6           56.571429     67.000000  68.000000        57.142857  60.000000  \n",
      "7           20.884615     91.538462  80.423077        26.153846  78.461538  \n",
      "8           12.000000     26.000000  18.000000        15.000000  15.000000  \n",
      "9           61.736842     74.947368  76.578947        64.578947  64.789474  \n",
      "10          75.375000     68.250000  71.375000        77.000000  63.125000  \n",
      "11          45.071429     72.357143  75.785714        52.714286  70.464286  \n",
      "12          55.000000     67.375000  55.000000        61.500000  31.000000  \n",
      "13          36.000000     76.703704  68.000000        28.888889  61.296296  \n",
      "14          64.150000     70.150000  88.975000        68.925000  81.050000  \n",
      "15          44.375000     66.000000  55.625000        46.375000  54.375000  \n",
      "16          60.555556     74.000000  78.833333        62.500000  44.222222  \n",
      "17          20.409091     56.227273  57.590909        21.454545  59.727273  \n",
      "18          23.437500     75.125000  77.750000        26.437500  65.937500  \n",
      "19          57.000000     61.000000  67.200000        62.000000  61.000000  \n",
      "20          32.357143     78.285714  67.285714        41.357143  71.642857  \n",
      "21          62.000000     67.000000  65.000000        65.000000  52.000000  \n",
      "22          72.095238     66.095238  61.380952        69.095238  51.523810  \n",
      "23          32.192308     76.576923  64.653846        35.192308  57.961538  \n",
      "24          30.000000     70.000000  47.600000        32.000000  46.000000  \n",
      "25          47.120000     70.000000  71.400000        54.000000  55.890000  \n",
      "26          36.000000     54.000000  58.000000        34.000000  66.000000  \n",
      "27          40.000000     78.000000  62.000000        33.000000  64.000000  \n",
      "28          53.000000     62.000000  71.000000        58.333333  53.000000  \n",
      "29          43.692308     67.153846  60.769231        45.153846  62.076923  \n",
      "...               ...           ...        ...              ...        ...  \n",
      "10819       63.555556     77.611111  67.388889        61.833333  58.777778  \n",
      "10820       65.222222     70.555556  74.277778        67.166667  38.277778  \n",
      "10821       63.100000     77.400000  73.400000        64.800000  38.100000  \n",
      "10822       23.000000     77.500000  53.250000        21.000000  48.375000  \n",
      "10823       63.333333     71.555556  65.777778        62.000000  62.333333  \n",
      "10824       20.200000     70.000000  60.800000        28.533333  42.866667  \n",
      "10825       19.090909     74.545455  62.000000        19.545455  59.000000  \n",
      "10826       39.000000     64.800000  57.200000        42.000000  59.400000  \n",
      "10827       74.857143     70.857143  75.285714        73.571429  76.857143  \n",
      "10828       26.809524     80.000000  75.714286        43.809524  82.619048  \n",
      "10829       49.600000     75.500000  77.950000        46.400000  72.000000  \n",
      "10830       29.166667     77.875000  74.333333        31.166667  63.750000  \n",
      "10831       18.000000     68.230769  67.461538        27.076923  60.538462  \n",
      "10832       51.128205     76.846154  88.230769        58.128205  76.205128  \n",
      "10833       31.000000     64.142857  54.571429        32.000000  65.000000  \n",
      "10834       35.769231     68.038462  65.961538        46.615385  74.076923  \n",
      "10835       30.555556     75.259259  70.814815        28.222222  67.407407  \n",
      "10836       63.000000     70.857143  77.142857        69.142857  48.000000  \n",
      "10837       48.000000     69.000000  64.000000        49.000000  36.000000  \n",
      "10838       61.000000     53.000000  60.000000        66.600000  38.000000  \n",
      "10839       20.478261     85.043478  73.521739        24.608696  74.652174  \n",
      "10840       24.000000     76.000000  66.000000        26.000000  35.000000  \n",
      "10841       58.428571     50.333333  62.857143        72.428571  34.142857  \n",
      "10842       72.692308     64.000000  60.000000        76.307692  60.076923  \n",
      "10843       63.875000     68.875000  76.812500        65.250000  44.687500  \n",
      "10844       59.000000     72.142857  70.000000        64.285714  66.000000  \n",
      "10845       65.000000     61.500000  70.500000        73.250000  63.000000  \n",
      "10846       30.000000     65.700000  63.000000        31.200000  87.100000  \n",
      "10847       66.666667     61.666667  70.111111        65.333333  66.222222  \n",
      "10848       18.000000     72.000000  71.000000        26.000000  66.000000  \n",
      "\n",
      "[10849 rows x 22 columns]\n"
     ]
    }
   ],
   "source": [
    "#features.head()\n",
    "features.shape\n",
    "print(features)"
   ]
  },
  {
   "cell_type": "code",
   "execution_count": 5,
   "metadata": {
    "collapsed": false
   },
   "outputs": [
    {
     "data": {
      "text/html": [
       "<div>\n",
       "<table border=\"1\" class=\"dataframe\">\n",
       "  <thead>\n",
       "    <tr style=\"text-align: right;\">\n",
       "      <th></th>\n",
       "      <th>overall_rating</th>\n",
       "    </tr>\n",
       "  </thead>\n",
       "  <tbody>\n",
       "    <tr>\n",
       "      <th>count</th>\n",
       "      <td>10849.000000</td>\n",
       "    </tr>\n",
       "    <tr>\n",
       "      <th>mean</th>\n",
       "      <td>66.797304</td>\n",
       "    </tr>\n",
       "    <tr>\n",
       "      <th>std</th>\n",
       "      <td>6.226787</td>\n",
       "    </tr>\n",
       "    <tr>\n",
       "      <th>min</th>\n",
       "      <td>43.000000</td>\n",
       "    </tr>\n",
       "    <tr>\n",
       "      <th>25%</th>\n",
       "      <td>62.800000</td>\n",
       "    </tr>\n",
       "    <tr>\n",
       "      <th>50%</th>\n",
       "      <td>66.705882</td>\n",
       "    </tr>\n",
       "    <tr>\n",
       "      <th>75%</th>\n",
       "      <td>70.916667</td>\n",
       "    </tr>\n",
       "    <tr>\n",
       "      <th>max</th>\n",
       "      <td>92.192308</td>\n",
       "    </tr>\n",
       "  </tbody>\n",
       "</table>\n",
       "</div>"
      ],
      "text/plain": [
       "       overall_rating\n",
       "count    10849.000000\n",
       "mean        66.797304\n",
       "std          6.226787\n",
       "min         43.000000\n",
       "25%         62.800000\n",
       "50%         66.705882\n",
       "75%         70.916667\n",
       "max         92.192308"
      ]
     },
     "execution_count": 5,
     "metadata": {},
     "output_type": "execute_result"
    }
   ],
   "source": [
    "#Visualize Target\n",
    "target1.describe()"
   ]
  },
  {
   "cell_type": "code",
   "execution_count": 6,
   "metadata": {
    "collapsed": false
   },
   "outputs": [
    {
     "data": {
      "text/plain": [
       "{'boxes': [<matplotlib.lines.Line2D at 0x227a2a536a0>],\n",
       " 'caps': [<matplotlib.lines.Line2D at 0x227a2a60fd0>,\n",
       "  <matplotlib.lines.Line2D at 0x227a2a6a908>],\n",
       " 'fliers': [<matplotlib.lines.Line2D at 0x227a2a70978>],\n",
       " 'means': [],\n",
       " 'medians': [<matplotlib.lines.Line2D at 0x227a2a6aa20>],\n",
       " 'whiskers': [<matplotlib.lines.Line2D at 0x227a2a53f60>,\n",
       "  <matplotlib.lines.Line2D at 0x227a2a60898>]}"
      ]
     },
     "execution_count": 6,
     "metadata": {},
     "output_type": "execute_result"
    },
    {
     "data": {
      "image/png": "[encoded data removed]",
      "text/plain": [
       "<matplotlib.figure.Figure at 0x2279d5e4be0>"
      ]
     },
     "metadata": {},
     "output_type": "display_data"
    }
   ],
   "source": [
    "#Visualize Target\n",
    "plt.boxplot(target1[\"overall_rating\"])"
   ]
  },
  {
   "cell_type": "code",
   "execution_count": 7,
   "metadata": {
    "collapsed": false
   },
   "outputs": [
    {
     "data": {
      "text/html": [
       "<div>\n",
       "<table border=\"1\" class=\"dataframe\">\n",
       "  <thead>\n",
       "    <tr style=\"text-align: right;\">\n",
       "      <th></th>\n",
       "      <th>acceleration</th>\n",
       "      <th>aggression</th>\n",
       "      <th>agility</th>\n",
       "      <th>balance</th>\n",
       "      <th>ball_control</th>\n",
       "      <th>crossing</th>\n",
       "      <th>curve</th>\n",
       "      <th>dribbling</th>\n",
       "      <th>finishing</th>\n",
       "      <th>free_kick_accuracy</th>\n",
       "      <th>...</th>\n",
       "      <th>long_shots</th>\n",
       "      <th>penalties</th>\n",
       "      <th>potential</th>\n",
       "      <th>short_passing</th>\n",
       "      <th>shot_power</th>\n",
       "      <th>sliding_tackle</th>\n",
       "      <th>sprint_speed</th>\n",
       "      <th>stamina</th>\n",
       "      <th>standing_tackle</th>\n",
       "      <th>vision</th>\n",
       "    </tr>\n",
       "  </thead>\n",
       "  <tbody>\n",
       "    <tr>\n",
       "      <th>count</th>\n",
       "      <td>10849.000000</td>\n",
       "      <td>10849.000000</td>\n",
       "      <td>10849.000000</td>\n",
       "      <td>10849.000000</td>\n",
       "      <td>10849.000000</td>\n",
       "      <td>10849.000000</td>\n",
       "      <td>10849.000000</td>\n",
       "      <td>10849.000000</td>\n",
       "      <td>10849.000000</td>\n",
       "      <td>10849.000000</td>\n",
       "      <td>...</td>\n",
       "      <td>10849.000000</td>\n",
       "      <td>10849.000000</td>\n",
       "      <td>10849.000000</td>\n",
       "      <td>10849.000000</td>\n",
       "      <td>10849.000000</td>\n",
       "      <td>10849.000000</td>\n",
       "      <td>10849.000000</td>\n",
       "      <td>10849.000000</td>\n",
       "      <td>10849.000000</td>\n",
       "      <td>10849.000000</td>\n",
       "    </tr>\n",
       "    <tr>\n",
       "      <th>mean</th>\n",
       "      <td>66.414298</td>\n",
       "      <td>59.527737</td>\n",
       "      <td>64.415989</td>\n",
       "      <td>64.495140</td>\n",
       "      <td>61.174877</td>\n",
       "      <td>52.905776</td>\n",
       "      <td>50.455029</td>\n",
       "      <td>56.922314</td>\n",
       "      <td>47.880475</td>\n",
       "      <td>47.352956</td>\n",
       "      <td>...</td>\n",
       "      <td>50.819192</td>\n",
       "      <td>53.690488</td>\n",
       "      <td>72.079286</td>\n",
       "      <td>60.414682</td>\n",
       "      <td>59.495290</td>\n",
       "      <td>47.127213</td>\n",
       "      <td>66.805876</td>\n",
       "      <td>65.474664</td>\n",
       "      <td>49.453950</td>\n",
       "      <td>55.896863</td>\n",
       "    </tr>\n",
       "    <tr>\n",
       "      <th>std</th>\n",
       "      <td>11.548649</td>\n",
       "      <td>14.824683</td>\n",
       "      <td>11.855565</td>\n",
       "      <td>10.972685</td>\n",
       "      <td>14.455443</td>\n",
       "      <td>16.047790</td>\n",
       "      <td>16.834636</td>\n",
       "      <td>16.749605</td>\n",
       "      <td>18.021844</td>\n",
       "      <td>16.215360</td>\n",
       "      <td>...</td>\n",
       "      <td>17.174497</td>\n",
       "      <td>13.772964</td>\n",
       "      <td>5.793252</td>\n",
       "      <td>13.411564</td>\n",
       "      <td>15.172732</td>\n",
       "      <td>20.043160</td>\n",
       "      <td>11.171867</td>\n",
       "      <td>11.221627</td>\n",
       "      <td>20.226040</td>\n",
       "      <td>13.681189</td>\n",
       "    </tr>\n",
       "    <tr>\n",
       "      <th>min</th>\n",
       "      <td>15.000000</td>\n",
       "      <td>11.000000</td>\n",
       "      <td>21.000000</td>\n",
       "      <td>20.000000</td>\n",
       "      <td>9.000000</td>\n",
       "      <td>6.000000</td>\n",
       "      <td>5.714286</td>\n",
       "      <td>5.142857</td>\n",
       "      <td>5.000000</td>\n",
       "      <td>6.000000</td>\n",
       "      <td>...</td>\n",
       "      <td>6.000000</td>\n",
       "      <td>9.000000</td>\n",
       "      <td>51.000000</td>\n",
       "      <td>10.571429</td>\n",
       "      <td>9.923077</td>\n",
       "      <td>5.000000</td>\n",
       "      <td>17.000000</td>\n",
       "      <td>16.000000</td>\n",
       "      <td>6.000000</td>\n",
       "      <td>8.000000</td>\n",
       "    </tr>\n",
       "    <tr>\n",
       "      <th>25%</th>\n",
       "      <td>60.000000</td>\n",
       "      <td>50.500000</td>\n",
       "      <td>57.724138</td>\n",
       "      <td>58.947368</td>\n",
       "      <td>57.000000</td>\n",
       "      <td>43.588235</td>\n",
       "      <td>39.529412</td>\n",
       "      <td>49.266667</td>\n",
       "      <td>32.600000</td>\n",
       "      <td>35.642857</td>\n",
       "      <td>...</td>\n",
       "      <td>39.000000</td>\n",
       "      <td>44.900000</td>\n",
       "      <td>68.000000</td>\n",
       "      <td>55.687500</td>\n",
       "      <td>52.142857</td>\n",
       "      <td>26.552632</td>\n",
       "      <td>61.000000</td>\n",
       "      <td>60.142857</td>\n",
       "      <td>29.161290</td>\n",
       "      <td>48.000000</td>\n",
       "    </tr>\n",
       "    <tr>\n",
       "      <th>50%</th>\n",
       "      <td>67.818182</td>\n",
       "      <td>62.291667</td>\n",
       "      <td>65.000000</td>\n",
       "      <td>65.000000</td>\n",
       "      <td>64.250000</td>\n",
       "      <td>56.333333</td>\n",
       "      <td>51.750000</td>\n",
       "      <td>61.080000</td>\n",
       "      <td>49.900000</td>\n",
       "      <td>48.000000</td>\n",
       "      <td>...</td>\n",
       "      <td>54.833333</td>\n",
       "      <td>55.000000</td>\n",
       "      <td>72.000000</td>\n",
       "      <td>63.000000</td>\n",
       "      <td>62.833333</td>\n",
       "      <td>49.875000</td>\n",
       "      <td>68.100000</td>\n",
       "      <td>67.153846</td>\n",
       "      <td>55.111111</td>\n",
       "      <td>57.000000</td>\n",
       "    </tr>\n",
       "    <tr>\n",
       "      <th>75%</th>\n",
       "      <td>74.320000</td>\n",
       "      <td>70.571429</td>\n",
       "      <td>72.724138</td>\n",
       "      <td>71.750000</td>\n",
       "      <td>70.315789</td>\n",
       "      <td>64.652174</td>\n",
       "      <td>63.000000</td>\n",
       "      <td>68.666667</td>\n",
       "      <td>63.000000</td>\n",
       "      <td>59.615385</td>\n",
       "      <td>...</td>\n",
       "      <td>63.954545</td>\n",
       "      <td>63.880000</td>\n",
       "      <td>76.000000</td>\n",
       "      <td>69.000000</td>\n",
       "      <td>70.333333</td>\n",
       "      <td>64.750000</td>\n",
       "      <td>74.444444</td>\n",
       "      <td>72.857143</td>\n",
       "      <td>67.000000</td>\n",
       "      <td>65.647059</td>\n",
       "    </tr>\n",
       "    <tr>\n",
       "      <th>max</th>\n",
       "      <td>95.787879</td>\n",
       "      <td>93.666667</td>\n",
       "      <td>94.666667</td>\n",
       "      <td>94.312500</td>\n",
       "      <td>95.769231</td>\n",
       "      <td>89.357143</td>\n",
       "      <td>92.571429</td>\n",
       "      <td>96.461538</td>\n",
       "      <td>92.230769</td>\n",
       "      <td>90.488889</td>\n",
       "      <td>...</td>\n",
       "      <td>90.000000</td>\n",
       "      <td>92.000000</td>\n",
       "      <td>95.230769</td>\n",
       "      <td>95.181818</td>\n",
       "      <td>93.076923</td>\n",
       "      <td>94.366667</td>\n",
       "      <td>95.696970</td>\n",
       "      <td>93.181818</td>\n",
       "      <td>90.200000</td>\n",
       "      <td>95.681818</td>\n",
       "    </tr>\n",
       "  </tbody>\n",
       "</table>\n",
       "<p>8 rows × 22 columns</p>\n",
       "</div>"
      ],
      "text/plain": [
       "       acceleration    aggression       agility       balance  ball_control  \\\n",
       "count  10849.000000  10849.000000  10849.000000  10849.000000  10849.000000   \n",
       "mean      66.414298     59.527737     64.415989     64.495140     61.174877   \n",
       "std       11.548649     14.824683     11.855565     10.972685     14.455443   \n",
       "min       15.000000     11.000000     21.000000     20.000000      9.000000   \n",
       "25%       60.000000     50.500000     57.724138     58.947368     57.000000   \n",
       "50%       67.818182     62.291667     65.000000     65.000000     64.250000   \n",
       "75%       74.320000     70.571429     72.724138     71.750000     70.315789   \n",
       "max       95.787879     93.666667     94.666667     94.312500     95.769231   \n",
       "\n",
       "           crossing         curve     dribbling     finishing  \\\n",
       "count  10849.000000  10849.000000  10849.000000  10849.000000   \n",
       "mean      52.905776     50.455029     56.922314     47.880475   \n",
       "std       16.047790     16.834636     16.749605     18.021844   \n",
       "min        6.000000      5.714286      5.142857      5.000000   \n",
       "25%       43.588235     39.529412     49.266667     32.600000   \n",
       "50%       56.333333     51.750000     61.080000     49.900000   \n",
       "75%       64.652174     63.000000     68.666667     63.000000   \n",
       "max       89.357143     92.571429     96.461538     92.230769   \n",
       "\n",
       "       free_kick_accuracy      ...         long_shots     penalties  \\\n",
       "count        10849.000000      ...       10849.000000  10849.000000   \n",
       "mean            47.352956      ...          50.819192     53.690488   \n",
       "std             16.215360      ...          17.174497     13.772964   \n",
       "min              6.000000      ...           6.000000      9.000000   \n",
       "25%             35.642857      ...          39.000000     44.900000   \n",
       "50%             48.000000      ...          54.833333     55.000000   \n",
       "75%             59.615385      ...          63.954545     63.880000   \n",
       "max             90.488889      ...          90.000000     92.000000   \n",
       "\n",
       "          potential  short_passing    shot_power  sliding_tackle  \\\n",
       "count  10849.000000   10849.000000  10849.000000    10849.000000   \n",
       "mean      72.079286      60.414682     59.495290       47.127213   \n",
       "std        5.793252      13.411564     15.172732       20.043160   \n",
       "min       51.000000      10.571429      9.923077        5.000000   \n",
       "25%       68.000000      55.687500     52.142857       26.552632   \n",
       "50%       72.000000      63.000000     62.833333       49.875000   \n",
       "75%       76.000000      69.000000     70.333333       64.750000   \n",
       "max       95.230769      95.181818     93.076923       94.366667   \n",
       "\n",
       "       sprint_speed       stamina  standing_tackle        vision  \n",
       "count  10849.000000  10849.000000     10849.000000  10849.000000  \n",
       "mean      66.805876     65.474664        49.453950     55.896863  \n",
       "std       11.171867     11.221627        20.226040     13.681189  \n",
       "min       17.000000     16.000000         6.000000      8.000000  \n",
       "25%       61.000000     60.142857        29.161290     48.000000  \n",
       "50%       68.100000     67.153846        55.111111     57.000000  \n",
       "75%       74.444444     72.857143        67.000000     65.647059  \n",
       "max       95.696970     93.181818        90.200000     95.681818  \n",
       "\n",
       "[8 rows x 22 columns]"
      ]
     },
     "execution_count": 7,
     "metadata": {},
     "output_type": "execute_result"
    }
   ],
   "source": [
    "#Visualize Features\n",
    "features.describe()"
   ]
  },
  {
   "cell_type": "markdown",
   "metadata": {},
   "source": [
    "**Performance Measure:**\n",
    "----------------------------------------\n",
    "Since our problem is of regression type, there are three different approaches to evaluate the quality of prediction of the model which are as follows :\n",
    "\n",
    " 1. **Estimator score method:** Estimators have a score method providing a default evaluation criterion for the problem they are designed to solve.\n",
    " 2. **Scoring parameter:** Model-evaluation tools using cross-validation (such as model_selection.cross_val_score) which rely on an internal scoring strategy.\n",
    " 3. **Metrics functions:** The metrics module implements functions assessing prediction error for specific purposes.\n",
    " \n",
    "In our project, we are using both **scoring parameter** (i.e., ***model_selection.cross_val_score***) and **metrics function**(i.e., ***metrics.mean_absolute_error*** and ***metrics.mean_squared_error***) to evaluate the performance of our model."
   ]
  },
  {
   "cell_type": "code",
   "execution_count": 8,
   "metadata": {
    "collapsed": false
   },
   "outputs": [
    {
     "name": "stdout",
     "output_type": "stream",
     "text": [
      "cross val score: 0.753417\n",
      "Accuracy: 0.76\n",
      "mean absoluter error: 2.378649\n",
      "Baseline Mean squared error: 29.71\n",
      "Mean squared error: 9.42\n"
     ]
    }
   ],
   "source": [
    "#Linear Regression\n",
    "#Default values\n",
    "n=np.mean(Ytest)\n",
    "#print(n)\n",
    "clf = linear_model.LinearRegression(fit_intercept=True, normalize=False, copy_X=True, n_jobs=1)\n",
    "clf.fit(Xtrain,Ytrain)\n",
    "\n",
    "y_pred = clf.predict(Xtest)\n",
    "#print(mean_squared_error(Ytest,y_pred))\n",
    "print('cross val score: %f' %np.mean(cross_val_score(clf, Xtrain, Ytrain, cv=10)))\n",
    "print('Accuracy: %.2f' % clf.score(Xtest, Ytest))\n",
    "print('mean absoluter error: %f' % (mean_absolute_error(Ytest, y_pred)))\n",
    "print('Baseline Mean squared error: %.2f' % np.mean((clf.predict(Xtest) - n) ** 2))\n",
    "print('Mean squared error: %.2f' % np.mean((clf.predict(Xtest) - Ytest) ** 2))"
   ]
  },
  {
   "cell_type": "code",
   "execution_count": 9,
   "metadata": {
    "collapsed": false
   },
   "outputs": [
    {
     "name": "stdout",
     "output_type": "stream",
     "text": [
      "cross val score: 0.753417\n",
      "Accuracy: 0.76\n",
      "mean absoluter error: 2.378649\n",
      "Baseline Mean squared error: 29.71\n",
      "Mean squared error: 9.42\n"
     ]
    }
   ],
   "source": [
    "#Linear Regression\n",
    "#changing n_jobs \n",
    "n=np.mean(Ytest)\n",
    "#print(n)\n",
    "clf = linear_model.LinearRegression(fit_intercept=True, normalize=False, copy_X=True, n_jobs=0)\n",
    "clf.fit(Xtrain,Ytrain)\n",
    "\n",
    "y_pred = clf.predict(Xtest)\n",
    "#print(mean_squared_error(Ytest,y_pred))\n",
    "print('cross val score: %f' %np.mean(cross_val_score(clf, Xtrain, Ytrain, cv=10)))\n",
    "print('Accuracy: %.2f' % clf.score(Xtest, Ytest))\n",
    "print('mean absoluter error: %f' % (mean_absolute_error(Ytest, y_pred)))\n",
    "print('Baseline Mean squared error: %.2f' % np.mean((clf.predict(Xtest) - n) ** 2))\n",
    "print('Mean squared error: %.2f' % np.mean((clf.predict(Xtest) - Ytest) ** 2))"
   ]
  },
  {
   "cell_type": "code",
   "execution_count": 10,
   "metadata": {
    "collapsed": false
   },
   "outputs": [
    {
     "name": "stdout",
     "output_type": "stream",
     "text": [
      "cross val score: 0.751949\n",
      "Accuracy: 0.76\n",
      "mean absoluter error: 2.388687\n",
      "Baseline Mean squared error: 31.88\n",
      "Mean squared error: 9.49\n"
     ]
    }
   ],
   "source": [
    "#Linear Regression\n",
    "#Changing fit_intercept value\n",
    "n=np.mean(Ytest)\n",
    "#print(n)\n",
    "clf = linear_model.LinearRegression(fit_intercept=False, normalize=False, copy_X=True, n_jobs=1)\n",
    "clf.fit(Xtrain,Ytrain)\n",
    "\n",
    "y_pred = clf.predict(Xtest)\n",
    "#print(mean_squared_error(Ytest,y_pred))\n",
    "print('cross val score: %f' %np.mean(cross_val_score(clf, Xtrain, Ytrain, cv=10)))\n",
    "print('Accuracy: %.2f' % clf.score(Xtest, Ytest))\n",
    "print('mean absoluter error: %f' % (mean_absolute_error(Ytest, y_pred)))\n",
    "print('Baseline Mean squared error: %.2f' % np.mean((clf.predict(Xtest) - n) ** 2))\n",
    "print('Mean squared error: %.2f' % np.mean((clf.predict(Xtest) - Ytest) ** 2))"
   ]
  },
  {
   "cell_type": "code",
   "execution_count": 11,
   "metadata": {
    "collapsed": false
   },
   "outputs": [
    {
     "name": "stdout",
     "output_type": "stream",
     "text": [
      "cross val score: 0.753396\n",
      "Accuracy: 0.76\n",
      "mean absoluter error: 2.378728\n",
      "Baseline Mean squared error: 29.43\n",
      "Mean squared error: 9.43\n"
     ]
    }
   ],
   "source": [
    "#Lasso\n",
    "#Default values\n",
    "n=np.mean(Ytest)\n",
    "#print(n)\n",
    "clf=linear_model.Lasso(alpha=0.1, fit_intercept=True, normalize=False, precompute=False, copy_X=True, max_iter=1000, tol=0.0001, warm_start=False, positive=False, random_state=None, selection='cyclic')\n",
    "clf.fit(Xtrain,Ytrain)\n",
    "\n",
    "y_pred = clf.predict(Xtest)\n",
    "#print(mean_squared_error(Ytest,y_pred))\n",
    "print('cross val score: %f' %np.mean(cross_val_score(clf, Xtrain, Ytrain, cv=10)))\n",
    "print('Accuracy: %.2f' % clf.score(Xtest, Ytest))\n",
    "print('mean absoluter error: %f' % (mean_absolute_error(Ytest, y_pred)))\n",
    "print('Baseline Mean squared error: %.2f' % np.mean((clf.predict(Xtest) - n) ** 2))\n",
    "print('Mean squared error: %.2f' % np.mean((clf.predict(Xtest) - Ytest) ** 2))"
   ]
  },
  {
   "cell_type": "code",
   "execution_count": 12,
   "metadata": {
    "collapsed": false
   },
   "outputs": [
    {
     "name": "stdout",
     "output_type": "stream",
     "text": [
      "cross val score: 0.753396\n",
      "Accuracy: 0.76\n",
      "mean absoluter error: 2.378728\n",
      "Baseline Mean squared error: 29.43\n",
      "Mean squared error: 9.43\n"
     ]
    }
   ],
   "source": [
    "#Lasso\n",
    "#changing alpha value\n",
    "n=np.mean(Ytest)\n",
    "#print(n)\n",
    "clf=linear_model.Lasso(alpha=0.1, fit_intercept=True, normalize=False, precompute=False, copy_X=True, max_iter=1000, tol=0.0001, warm_start=False, positive=False, random_state=None, selection='cyclic')\n",
    "clf.fit(Xtrain,Ytrain)\n",
    "\n",
    "y_pred = clf.predict(Xtest)\n",
    "#print(mean_squared_error(Ytest,y_pred))\n",
    "print('cross val score: %f' %np.mean(cross_val_score(clf, Xtrain, Ytrain, cv=10)))\n",
    "print('Accuracy: %.2f' % clf.score(Xtest, Ytest))\n",
    "print('mean absoluter error: %f' % (mean_absolute_error(Ytest, y_pred)))\n",
    "print(\"Baseline Mean squared error: %.2f\" % np.mean((clf.predict(Xtest) - n) ** 2))\n",
    "print(\"Mean squared error: %.2f\" % np.mean((clf.predict(Xtest) - Ytest) ** 2))"
   ]
  },
  {
   "cell_type": "code",
   "execution_count": 13,
   "metadata": {
    "collapsed": false
   },
   "outputs": [
    {
     "name": "stdout",
     "output_type": "stream",
     "text": [
      "cross val score: 0.748504\n",
      "Accuracy: 0.75\n",
      "mean absoluter error: 2.405936\n",
      "Baseline Mean squared error: 27.17\n",
      "Mean squared error: 9.72\n"
     ]
    }
   ],
   "source": [
    "#Lasso\n",
    "#changing random state value\n",
    "n=np.mean(Ytest)\n",
    "#print(n)\n",
    "clf=linear_model.Lasso(alpha=1.0, fit_intercept=True, normalize=False, precompute=False, copy_X=True, max_iter=1000, tol=0.0001, warm_start=False, positive=False, random_state=15, selection='cyclic')\n",
    "clf.fit(Xtrain,Ytrain)\n",
    "\n",
    "y_pred = clf.predict(Xtest)\n",
    "#print(mean_squared_error(Ytest,y_pred))\n",
    "print('cross val score: %f' %np.mean(cross_val_score(clf, Xtrain, Ytrain, cv=10)))\n",
    "print('Accuracy: %.2f' % clf.score(Xtest, Ytest))\n",
    "print('mean absoluter error: %f' % (mean_absolute_error(Ytest, y_pred)))\n",
    "print('Baseline Mean squared error: %.2f' % np.mean((clf.predict(Xtest) - n) ** 2))\n",
    "print('Mean squared error: %.2f' % np.mean((clf.predict(Xtest) - Ytest) ** 2))"
   ]
  },
  {
   "cell_type": "code",
   "execution_count": 14,
   "metadata": {
    "collapsed": false
   },
   "outputs": [
    {
     "name": "stdout",
     "output_type": "stream",
     "text": [
      "cross val score: 0.753417\n",
      "Accuracy: 0.76\n",
      "mean absoluter error: 2.378649\n",
      "Baseline Mean squared error: 29.71\n",
      "Mean squared error: 9.42\n"
     ]
    }
   ],
   "source": [
    "#Ridge\n",
    "# Default values\n",
    "n=np.mean(Ytest)\n",
    "#print(n)\n",
    "clf = linear_model.Ridge(alpha=1.0, fit_intercept=True, normalize=False, copy_X=True, max_iter=None, tol=0.001, solver='auto', random_state=None)\n",
    "clf.fit(Xtrain,Ytrain)\n",
    "\n",
    "y_pred = clf.predict(Xtest)\n",
    "#print(mean_squared_error(Ytest,y_pred))\n",
    "print('cross val score: %f' %np.mean(cross_val_score(clf, Xtrain, Ytrain, cv=10)))\n",
    "print('Accuracy: %.2f' % clf.score(Xtest, Ytest))\n",
    "print('mean absoluter error: %f' % (mean_absolute_error(Ytest, y_pred)))\n",
    "print('Baseline Mean squared error: %.2f' % np.mean((clf.predict(Xtest) - n) ** 2))\n",
    "print('Mean squared error: %.2f' % np.mean((clf.predict(Xtest) - Ytest) ** 2))"
   ]
  },
  {
   "cell_type": "code",
   "execution_count": 15,
   "metadata": {
    "collapsed": false
   },
   "outputs": [
    {
     "name": "stdout",
     "output_type": "stream",
     "text": [
      "cross val score: 0.753417\n",
      "Accuracy: 0.76\n",
      "mean absoluter error: 2.378649\n",
      "Baseline Mean squared error: 29.71\n",
      "Mean squared error: 9.42\n"
     ]
    }
   ],
   "source": [
    "#Ridge\n",
    "#Changing alpha value\n",
    "n=np.mean(Ytest)\n",
    "#print(n)\n",
    "clf = linear_model.Ridge(alpha=5, fit_intercept=True, normalize=False, copy_X=True, max_iter=None, tol=0.001, solver='auto', random_state=None)\n",
    "clf.fit(Xtrain,Ytrain)\n",
    "\n",
    "y_pred = clf.predict(Xtest)\n",
    "#print(mean_squared_error(Ytest,y_pred))\n",
    "print('cross val score: %f' %np.mean(cross_val_score(clf, Xtrain, Ytrain, cv=10)))\n",
    "print('Accuracy: %.2f' % clf.score(Xtest, Ytest))\n",
    "print('mean absoluter error: %f' % (mean_absolute_error(Ytest, y_pred)))\n",
    "print('Baseline Mean squared error: %.2f' % np.mean((clf.predict(Xtest) - n) ** 2))\n",
    "print('Mean squared error: %.2f' % np.mean((clf.predict(Xtest) - Ytest) ** 2))"
   ]
  },
  {
   "cell_type": "code",
   "execution_count": 16,
   "metadata": {
    "collapsed": false
   },
   "outputs": [
    {
     "name": "stdout",
     "output_type": "stream",
     "text": [
      "cross val score: 0.753417\n",
      "Accuracy: 0.76\n",
      "mean absoluter error: 2.378649\n",
      "Baseline Mean squared error: 29.71\n",
      "Mean squared error: 9.42\n"
     ]
    }
   ],
   "source": [
    "#Ridge\n",
    "#Changing Random state \n",
    "n=np.mean(Ytest)\n",
    "#print(n)\n",
    "clf = linear_model.Ridge(fit_intercept=True, normalize=False, copy_X=True, max_iter=None, tol=0.001, solver='auto', random_state=10)\n",
    "clf.fit(Xtrain,Ytrain)\n",
    "\n",
    "y_pred = clf.predict(Xtest)\n",
    "#print(mean_squared_error(Ytest,y_pred))\n",
    "print('cross val score: %f' %np.mean(cross_val_score(clf, Xtrain, Ytrain, cv=10)))\n",
    "print('Accuracy: %.2f' % clf.score(Xtest, Ytest))\n",
    "print('mean absoluter error: %f' % (mean_absolute_error(Ytest, y_pred)))\n",
    "print('Baseline Mean squared error: %.2f' % np.mean((clf.predict(Xtest) - n) ** 2))\n",
    "print('Mean squared error: %.2f' % np.mean((clf.predict(Xtest) - Ytest) ** 2))"
   ]
  },
  {
   "cell_type": "code",
   "execution_count": 17,
   "metadata": {
    "collapsed": false
   },
   "outputs": [
    {
     "name": "stdout",
     "output_type": "stream",
     "text": [
      "Accuracy: 0.92\n",
      "cross val score: 0.906835\n",
      "mean absoluter error: 1.338273\n",
      "Baseline Mean squared error: 33.97\n",
      "Mean squared error: 3.27\n"
     ]
    },
    {
     "data": {
      "text/plain": [
       "<matplotlib.axes._subplots.AxesSubplot at 0x227a2ccef60>"
      ]
     },
     "execution_count": 17,
     "metadata": {},
     "output_type": "execute_result"
    },
    {
     "data": {
      "image/png": "[encoded data removed]",
      "text/plain": [
       "<matplotlib.figure.Figure at 0x227a2a75860>"
      ]
     },
     "metadata": {},
     "output_type": "display_data"
    }
   ],
   "source": [
    "#Random Forest\n",
    "#changing n_estimators,random_state\n",
    "n=np.mean(Ytest)\n",
    "clf = RandomForestRegressor(n_estimators=100,oob_score=True,random_state=10)\n",
    "clf.fit(Xtrain,Ytrain)\n",
    "y_pred = clf.predict(Xtest)     \n",
    "print('Accuracy: %.2f' % clf.score(Xtest, Ytest))\n",
    "print('cross val score: %f' %np.mean(cross_val_score(clf, Xtrain, Ytrain, cv=10)))\n",
    "y_pred = clf.predict(Xtest)\n",
    "print('mean absoluter error: %f' % (mean_absolute_error(Ytest, y_pred)))\n",
    "print('Baseline Mean squared error: %.2f' % np.mean((clf.predict(Xtest) - n) ** 2))\n",
    "print('Mean squared error: %.2f' % np.mean((clf.predict(Xtest) - Ytest) ** 2))\n",
    "#feature importances\n",
    "clf.oob_score_\n",
    "clf.feature_importances_\n",
    "feature_importances = pd.Series(clf.feature_importances_, index=features.columns)\n",
    "feature_importances.sort_values(inplace=True)\n",
    "plt.xlabel('Feature Importance')\n",
    "plt.ylabel('Features')\n",
    "feature_importances.plot(kind = 'barh', figsize=(7,6))"
   ]
  },
  {
   "cell_type": "code",
   "execution_count": 18,
   "metadata": {
    "collapsed": false
   },
   "outputs": [
    {
     "name": "stdout",
     "output_type": "stream",
     "text": [
      "Accuracy: 0.91\n",
      "cross val score: 0.893719\n",
      "mean absoluter error: 1.422416\n",
      "Baseline Mean squared error: 34.40\n",
      "Mean squared error: 3.72\n"
     ]
    }
   ],
   "source": [
    "#Random Forest\n",
    "#Default values\n",
    "n=np.mean(Ytest)\n",
    "clf = RandomForestRegressor(n_estimators=10, criterion='mse', max_depth=None, min_samples_split=2, min_samples_leaf=1, min_weight_fraction_leaf=0.0, max_features='auto', max_leaf_nodes=None, min_impurity_split=1e-07, bootstrap=True, oob_score=False, n_jobs=1, random_state=None, verbose=0, warm_start=False)\n",
    "clf.fit(Xtrain,Ytrain)\n",
    "y_pred = clf.predict(Xtest)     \n",
    "print('Accuracy: %.2f' % clf.score(Xtest, Ytest))\n",
    "print('cross val score: %f' %np.mean(cross_val_score(clf, Xtrain, Ytrain, cv=10)))\n",
    "y_pred = clf.predict(Xtest)\n",
    "print('mean absoluter error: %f' % (mean_absolute_error(Ytest, y_pred)))\n",
    "print('Baseline Mean squared error: %.2f' % np.mean((clf.predict(Xtest) - n) ** 2))\n",
    "print('Mean squared error: %.2f' % np.mean((clf.predict(Xtest) - Ytest) ** 2))"
   ]
  },
  {
   "cell_type": "code",
   "execution_count": 19,
   "metadata": {
    "collapsed": false
   },
   "outputs": [
    {
     "name": "stdout",
     "output_type": "stream",
     "text": [
      "Accuracy: 0.92\n",
      "cross val score: 0.906862\n",
      "mean absoluter error: 1.324897\n",
      "Baseline Mean squared error: 34.08\n",
      "Mean squared error: 3.20\n"
     ]
    }
   ],
   "source": [
    "#Random Forest\n",
    "#Changing n_estimators max_depth, random_state\n",
    "n=np.mean(Ytest)\n",
    "clf = RandomForestRegressor(n_estimators=100,  max_depth=25 , oob_score=True,random_state=20)\n",
    "clf.fit(Xtrain,Ytrain)\n",
    "y_pred = clf.predict(Xtest)     \n",
    "print('Accuracy: %.2f' % clf.score(Xtest, Ytest))\n",
    "print('cross val score: %f' %np.mean(cross_val_score(clf, Xtrain, Ytrain, cv=10)))\n",
    "y_pred = clf.predict(Xtest)\n",
    "print('mean absoluter error: %f' % (mean_absolute_error(Ytest, y_pred)))\n",
    "print('Baseline Mean squared error: %.2f' % np.mean((clf.predict(Xtest) - n) ** 2))\n",
    "print('Mean squared error: %.2f' % np.mean((clf.predict(Xtest) - Ytest) ** 2))"
   ]
  },
  {
   "cell_type": "code",
   "execution_count": 26,
   "metadata": {
    "collapsed": false
   },
   "outputs": [
    {
     "name": "stdout",
     "output_type": "stream",
     "text": [
      "Accuracy: 0.91\n",
      "cross val score: 0.890603\n",
      "mean absoluter error: 1.430958\n",
      "Baseline Mean squared error: 34.53\n",
      "Mean squared error: 3.69\n"
     ]
    }
   ],
   "source": [
    "#Random Forest\n",
    "#Changing max_depth, max_leaf_nodes, random_state\n",
    "n=np.mean(Ytest)\n",
    "clf = RandomForestRegressor(n_estimators=10, max_depth=20, max_leaf_nodes = -1, oob_score=False, random_state=42)\n",
    "clf.fit(Xtrain,Ytrain)\n",
    "y_pred = clf.predict(Xtest)     \n",
    "print('Accuracy: %.2f' % clf.score(Xtest, Ytest))\n",
    "print('cross val score: %f' %np.mean(cross_val_score(clf, Xtrain, Ytrain, cv=10)))\n",
    "y_pred = clf.predict(Xtest)\n",
    "print('mean absoluter error: %f' % (mean_absolute_error(Ytest, y_pred)))\n",
    "print('Baseline Mean squared error: %.2f' % np.mean((clf.predict(Xtest) - n) ** 2))\n",
    "print('Mean squared error: %.2f' % np.mean((clf.predict(Xtest) - Ytest) ** 2))"
   ]
  },
  {
   "cell_type": "code",
   "execution_count": 21,
   "metadata": {
    "collapsed": false
   },
   "outputs": [
    {
     "name": "stdout",
     "output_type": "stream",
     "text": [
      "Accuracy: 0.80\n",
      "cross val score: 0.788478\n",
      "mean absoluter error: 2.045532\n",
      "Baseline Mean squared error: 40.16\n",
      "Mean squared error: 7.73\n"
     ]
    },
    {
     "data": {
      "text/plain": [
       "<matplotlib.axes._subplots.AxesSubplot at 0x227a2865a90>"
      ]
     },
     "execution_count": 21,
     "metadata": {},
     "output_type": "execute_result"
    },
    {
     "data": {
      "image/png": "[encoded data removed]",
      "text/plain": [
       "<matplotlib.figure.Figure at 0x227a2903898>"
      ]
     },
     "metadata": {},
     "output_type": "display_data"
    }
   ],
   "source": [
    "#Decision Tree\n",
    "n=np.mean(Ytest)\n",
    "clf = DecisionTreeRegressor(criterion='mse', splitter='best', max_depth=None, min_samples_split=2, min_samples_leaf=1, min_weight_fraction_leaf=0.0, max_features=None, random_state=None, max_leaf_nodes=None, min_impurity_split=1e-07, presort=False)\n",
    "clf.fit(Xtrain,Ytrain)\n",
    "y_pred = clf.predict(Xtest)     \n",
    "print('Accuracy: %.2f' % clf.score(Xtest, Ytest))\n",
    "print('cross val score: %f' %np.mean(cross_val_score(clf, Xtrain, Ytrain, cv=10)))\n",
    "y_pred = clf.predict(Xtest)\n",
    "print('mean absoluter error: %f' % (mean_absolute_error(Ytest, y_pred)))\n",
    "print('Baseline Mean squared error: %.2f' % np.mean((clf.predict(Xtest) - n) ** 2))\n",
    "print('Mean squared error: %.2f' % np.mean((clf.predict(Xtest) - Ytest) ** 2))\n",
    "#feature importances\n",
    "#clf.oob_score_\n",
    "clf.feature_importances_\n",
    "feature_importances = pd.Series(clf.feature_importances_, index=features.columns)\n",
    "feature_importances.sort_values(inplace=True)\n",
    "plt.xlabel('Feature Importance')\n",
    "plt.ylabel('Features')\n",
    "feature_importances.plot(kind = 'barh', figsize=(7,6))                            "
   ]
  },
  {
   "cell_type": "markdown",
   "metadata": {},
   "source": [
    "Top positive features are potential, ball_control ,standing_tackle, crossing, shot_power, aggression, stamina.\n",
    "\n",
    "Top negative features are balance, curve, agility."
   ]
  },
  {
   "cell_type": "code",
   "execution_count": 22,
   "metadata": {
    "collapsed": false,
    "scrolled": true
   },
   "outputs": [
    {
     "data": {
      "text/plain": [
       "array([  4.34879138e-16,  -4.88584092e-16,   1.24307320e-15,\n",
       "         2.65250076e-17,  -1.17888923e-16,  -3.10440830e-16,\n",
       "         6.54938460e-18,  -1.86657461e-16,   3.52029423e-16,\n",
       "         3.50064607e-16,  -1.40156831e-16,  -1.69956530e-16,\n",
       "         1.06427500e-16,   3.65128192e-17,   9.02177729e-16,\n",
       "         4.52889945e-16,   5.64556953e-16,  -1.20508677e-16,\n",
       "         4.95133476e-16,  -1.38192015e-16,  -6.54938460e-17,\n",
       "        -7.43355153e-17])"
      ]
     },
     "execution_count": 22,
     "metadata": {},
     "output_type": "execute_result"
    }
   ],
   "source": [
    "#Scaling\n",
    "X = np.array(features)\n",
    "#print(X)\n",
    "a = preprocessing.scale(X)\n",
    "#print(a)\n",
    "#Mean\n",
    "a.mean(axis = 0)"
   ]
  },
  {
   "cell_type": "code",
   "execution_count": 23,
   "metadata": {
    "collapsed": false
   },
   "outputs": [
    {
     "data": {
      "text/plain": [
       "array([ 1.,  1.,  1.,  1.,  1.,  1.,  1.,  1.,  1.,  1.,  1.,  1.,  1.,\n",
       "        1.,  1.,  1.,  1.,  1.,  1.,  1.,  1.,  1.])"
      ]
     },
     "execution_count": 23,
     "metadata": {},
     "output_type": "execute_result"
    }
   ],
   "source": [
    "#Variance\n",
    "a.std(axis = 0)"
   ]
  }
 ],
 "metadata": {
  "anaconda-cloud": {},
  "kernelspec": {
   "display_name": "Python [Root]",
   "language": "python",
   "name": "Python [Root]"
  },
  "language_info": {
   "codemirror_mode": {
    "name": "ipython",
    "version": 3
   },
   "file_extension": ".py",
   "mimetype": "text/x-python",
   "name": "python",
   "nbconvert_exporter": "python",
   "pygments_lexer": "ipython3",
   "version": "3.5.2"
  }
 },
 "nbformat": 4,
 "nbformat_minor": 0
}
